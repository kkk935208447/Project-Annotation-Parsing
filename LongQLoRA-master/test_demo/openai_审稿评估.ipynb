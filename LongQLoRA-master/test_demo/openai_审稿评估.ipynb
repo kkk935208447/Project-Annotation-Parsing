{
 "cells": [
  {
   "cell_type": "code",
   "execution_count": 11,
   "metadata": {},
   "outputs": [],
   "source": [
    "import requests as requests\n",
    "PROMPT = \"\"\"Your task is to carefully analyze and accurately match the key concerns raised in two reviews, ensuring a strong correspondence between the matched points. Examine the verbatim closely.\n",
    "\n",
    "=====Review A:\n",
    "{{Review_A}}\n",
    "=====\n",
    "\n",
    "=====Review B:\n",
    "{{Review_B}}\n",
    "=====\n",
    "\n",
    "Please follow the example JSON format below for matching points. For instance, if point 3 from review A is nearly identical to point 2 from review B, it should look like this:\n",
    "{{\n",
    "  \"A3-B2\": {{\"rationale\": \"/explain why A3 and B2 are nearly identical/\", \"similarity\": \"/5-10, only an integer/\"}},\n",
    "  ...\n",
    "}}\n",
    "\n",
    "** Note that you should only match points with a significant degree of similarity in their concerns. Refrain from matching points with only superficial similarities or weak connections. \n",
    "** For each matched pair, rate the similarity on a scale of 5-10:\n",
    "5-Somewhat Related: Points address similar themes but from different angles.\n",
    "6-Moderately Related: Points share a common theme but with different perspectives or suggestions.\n",
    "7-Strongly Related: Points are largely aligned but differ in some details or nuances.\n",
    "8-Very Strongly Related: Points offer similar suggestions or concerns, with slight differences.\n",
    "9-Almost Identical: Points are nearly the same, with minor differences in wording or presentation.\n",
    "10-Identical: Points are exactly the same in terms of concerns, suggestions, or praises.\n",
    "\n",
    "If no match is found, output an empty JSON object. Provide your output as JSON only.\n",
    "\"\"\".strip()"
   ]
  },
  {
   "cell_type": "code",
   "execution_count": 12,
   "metadata": {},
   "outputs": [
    {
     "name": "stdout",
     "output_type": "stream",
     "text": [
      "Your task is to carefully analyze and accurately match the key concerns raised in two reviews, ensuring a strong correspondence between the matched points. Examine the verbatim closely.\n",
      "\n",
      "=====Review A:\n",
      "{{Review_A}}\n",
      "=====\n",
      "\n",
      "=====Review B:\n",
      "{{Review_B}}\n",
      "=====\n",
      "\n",
      "Please follow the example JSON format below for matching points. For instance, if point 3 from review A is nearly identical to point 2 from review B, it should look like this:\n",
      "{{\n",
      "  \"A3-B2\": {{\"rationale\": \"/explain why A3 and B2 are nearly identical/\", \"similarity\": \"/5-10, only an integer/\"}},\n",
      "  ...\n",
      "}}\n",
      "\n",
      "** Note that you should only match points with a significant degree of similarity in their concerns. Refrain from matching points with only superficial similarities or weak connections. \n",
      "** For each matched pair, rate the similarity on a scale of 5-10:\n",
      "5-Somewhat Related: Points address similar themes but from different angles.\n",
      "6-Moderately Related: Points share a common theme but with different perspectives or suggestions.\n",
      "7-Strongly Related: Points are largely aligned but differ in some details or nuances.\n",
      "8-Very Strongly Related: Points offer similar suggestions or concerns, with slight differences.\n",
      "9-Almost Identical: Points are nearly the same, with minor differences in wording or presentation.\n",
      "10-Identical: Points are exactly the same in terms of concerns, suggestions, or praises.\n",
      "\n",
      "If no match is found, output an empty JSON object. Provide your output as JSON only.\n",
      "\n"
     ]
    }
   ],
   "source": [
    "print(PROMPT)"
   ]
  },
  {
   "cell_type": "code",
   "execution_count": null,
   "metadata": {},
   "outputs": [],
   "source": [
    "review_A = \"\"\"\"\"\".strip()"
   ]
  },
  {
   "cell_type": "code",
   "execution_count": 15,
   "metadata": {},
   "outputs": [
    {
     "name": "stdout",
     "output_type": "stream",
     "text": [
      "{\n",
      "  \"Significance and novelty\": {\n",
      "    \"Valid and important problem\": \"Choosing a virtualization technology is a valid and important problem that needs an SoK paper to provide knowledge for practitioners.\",\n",
      "    \"Broad coverage of virtualization techniques\": \"This paper covers virtualization technologies across the spectrum: hypervisor, container, and sandbox.\"\n",
      "  },\n",
      "  \"Potential reasons for acceptance\": {},\n",
      "  \"Potential reasons for rejection\": {\n",
      "    \"Problem not well motivated and defined\": \"The paper doesn't state a concrete problem beyond a vague one. The motivation for using isolation as the aspect for choosing a virtualization technology is unclear.\",\n",
      "    \"Lack of novelty and advancement\": \"It is unclear how this paper advances the field compared with previous work. The categorization of hypervisor, container and sandbox seems to be known before.\",\n",
      "    \"Unclear usefulness for practitioners\": \"It is unclear how this paper's knowledge can help practitioners decide which virtualization technique to use.\",\n",
      "    \"Lack of breadth and depth\": \"The SoK lacks breadth and depth. It focuses only on Linux and a few well-known techniques. There is no discussion of modern approaches like intra-process isolation.\",\n",
      "    \"Weak writing\": \"The writing has issues like inconsistent citation format, incomplete sentences, and a lack of justification for claims.\"\n",
      "  },\n",
      "  \"Suggestions for improvement\": {\n",
      "    \"Motivate the problem better\": \"Better motivate why isolation is an important aspect for choosing a virtualization technology and why a decision based on isolation is important.\",\n",
      "    \"Demonstrate novelty and advancement\": \"Show how this work advances beyond existing classifications and comparisons of virtualization technologies.\",\n",
      "    \"Clarify usefulness for practitioners\": \"Explain how the knowledge in this paper can help practitioners make decisions about which virtualization technique to choose.\",\n",
      "    \"Increase breadth and depth\": \"Cover a broader range of virtualization techniques, including modern approaches. Provide more in-depth analysis and empirical evaluation.\",\n",
      "    \"Improve writing\": \"Improve the writing quality, citation consistency, and justification of claims.\"\n",
      "  }\n",
      "}\n"
     ]
    }
   ],
   "source": [
    "review_B = \"\"\"\"\"\".strip()\n",
    "print(review_B)"
   ]
  },
  {
   "cell_type": "code",
   "execution_count": null,
   "metadata": {},
   "outputs": [],
   "source": [
    "PROMPT = PROMPT.replace(\"{{Review_A}}\", review_A).replace(\"{{Review_B}}\", review_B)\n",
    "print(PROMPT)"
   ]
  },
  {
   "cell_type": "markdown",
   "metadata": {},
   "source": [
    "#### 调用API"
   ]
  },
  {
   "cell_type": "code",
   "execution_count": null,
   "metadata": {},
   "outputs": [],
   "source": [
    "# 在这里配置您在本站的API_KEY\n",
    "api_key = \"you api\"\n",
    "headers = {\n",
    "    \"Authorization\": 'Bearer ' + api_key,\n",
    "}"
   ]
  },
  {
   "cell_type": "code",
   "execution_count": null,
   "metadata": {},
   "outputs": [],
   "source": [
    "params = {\n",
    "    \"messages\": [\n",
    "        # {\"role\": \"system\", \"content\": SYSTEM_PROMPT},\n",
    "        {\"role\": \"user\", \"content\": PROMPT}\n",
    "    ],\n",
    "    # 如果需要切换模型，在这里修改\n",
    "    \"model\": 'claude-3-sonnet-20240229',\n",
    "    # 输出强制为 json格式\n",
    "    \"response_format\":{ \"type\": \"json_object\" },\n",
    "}\n",
    "response = requests.post(\n",
    "    \"https://XXXX.top/v1/chat/completions\",  # XXXX是三方站 url\n",
    "    headers=headers,\n",
    "    json=params,\n",
    "    stream=False\n",
    ")\n",
    "res = response.json()\n",
    "# print(res)\n",
    "res_content = res[\"choices\"][0]['message']['content']\n",
    "print(res_content)"
   ]
  },
  {
   "cell_type": "code",
   "execution_count": null,
   "metadata": {},
   "outputs": [],
   "source": []
  },
  {
   "cell_type": "code",
   "execution_count": null,
   "metadata": {},
   "outputs": [],
   "source": []
  }
 ],
 "metadata": {
  "kernelspec": {
   "display_name": "py3.10_ds_tranformers_4.39",
   "language": "python",
   "name": "python3"
  },
  "language_info": {
   "codemirror_mode": {
    "name": "ipython",
    "version": 3
   },
   "file_extension": ".py",
   "mimetype": "text/x-python",
   "name": "python",
   "nbconvert_exporter": "python",
   "pygments_lexer": "ipython3",
   "version": "3.10.14"
  }
 },
 "nbformat": 4,
 "nbformat_minor": 2
}
