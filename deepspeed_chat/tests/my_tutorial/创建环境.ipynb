{
 "cells": [
  {
   "cell_type": "markdown",
   "metadata": {},
   "source": [
    "#### AUTODL 环境配置"
   ]
  },
  {
   "cell_type": "markdown",
   "metadata": {},
   "source": [
    "source activate \n",
    "conda create -n dsc python=3.10 pip\n",
    "conda activate dsc\n",
    "pip install torch==2.0.1 torchvision==0.15.2 torchaudio==2.0.2 -i https://pypi.tuna.tsinghua.edu.cn/simple\n",
    "pip install deepspeed -i https://pypi.org/simple\n",
    "pip install -r requirements.txt\n",
    "\n",
    "curl -s https://packagecloud.io/install/repositories/github/git-lfs/script.deb.sh | sudo bash\n",
    "sudo apt-get install git-lfs\n",
    "git lfs install\n",
    "\n",
    "\n",
    "GIT_LFS_SKIP_SMUDGE=1 git clone https://huggingface.co/facebook/opt-350m\n",
    "cd opt-350m\n",
    "git lfs pull --include=\"*.bin\"\n",
    "\n",
    "GIT_LFS_SKIP_SMUDGE=1 git clone https://huggingface.co/facebook/opt-125m\n",
    "cd opt-125m\n",
    "git lfs pull --include=\"*.bin\""
   ]
  }
 ],
 "metadata": {
  "kernelspec": {
   "display_name": "dsc",
   "language": "python",
   "name": "python3"
  },
  "language_info": {
   "name": "python",
   "version": "3.10.4"
  }
 },
 "nbformat": 4,
 "nbformat_minor": 2
}
